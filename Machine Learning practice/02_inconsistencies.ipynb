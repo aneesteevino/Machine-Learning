{
 "cells": [
  {
   "cell_type": "code",
   "execution_count": 1,
   "metadata": {},
   "outputs": [],
   "source": [
    "# Data inconsistencies\n",
    "\n",
    "import pandas as pd\n",
    "\n",
    "data = {\n",
    "    \"ID\": [1, 2, 3, 4, 5, 6, 7, 8],\n",
    "    \"Name\": [\"John Doe\", \"Jane Smith\", None, \"Sarah Connor\", \"John Doe\", \"Emily Davis\", None, \"Michael Brown\"],\n",
    "    \"Age\": [29, 22, 31, -5, 29, 27, None, 45],\n",
    "    \"Email Address\": [\"johndoe@gmail.com\", \"janesmith\", \"mike.rogers@example.com\", \"sarah.connor@email\",\n",
    "                      \"johndoe@gmail.com\", \"emily.davis@gmail\", None, \"mike.brown@email.com\"],\n",
    "    \"Join Date\": [\"2023-07-15\", \"2023/08/10\", \"2023-07-32\", \"15th Aug 23\", \"2023-07-15\", \"2023-09-12\", None, \"2023-11-05\"],\n",
    "    \"Country\": [\"USA\", \"US\", \"United States\", \"USA\", \"USA\", None, None, \"U.S.A.\"],\n",
    "    \"Phone Number\": [\"123-456-7890\", \"456-789-0123\", \"(123)4567890\", \"+1 23456789\", \"123-456-7890\", \"123-456\", None, \"789-012-3456\"],\n",
    "}\n",
    "\n",
    "# data.haead() isme error dega apko isko panadas data frame mai convert krna prega\n",
    "\n",
    "df = pd.DataFrame(data) \n",
    "\n",
    "df\n"
   ]
  },
  {
   "cell_type": "code",
   "execution_count": null,
   "metadata": {},
   "outputs": [],
   "source": [
    "# This is inconsistent data\n",
    "\n",
    "\n",
    "data = {\n",
    "    \"Date\": [\"2021-05-10\", \"May 15, 2021\", \"2021/06/01\", \"06-12-2021\", \"2022-03-01\",\n",
    "             \"March 5, 22\", \"2022/04/10\", \"04-15-2022\", \"2022-05-10\", None],\n",
    "    \"Country\": [\"USA\", \"United States\", \"US\", \"U.S.A.\", \"USA\",\n",
    "                \"United States\", \"U.S\", \"USA\", None, \"U.S.A\"],\n",
    "    \"Name\": [\"John Doe\", \"Jonh Do\", \"J. Doe\", \"Jane Smith\", \"Jane S\",\n",
    "             \"J.S.\", None, \"Michael Brown\", \"Mike B.\", \"Michael B.\"],\n",
    "    \"Sales 2021\": [5000, 5200, 5400, 5500, 5700, 6000, None, 6300, 6400, None],\n",
    "    \"Sales 2022\": [6000, 6100, 6200, None, 6800, 7000, 7200, 7400, None, 7500],\n",
    "}\n",
    "df=pd.DataFrame(data)\n",
    "df.head()"
   ]
  },
  {
   "cell_type": "code",
   "execution_count": null,
   "metadata": {},
   "outputs": [],
   "source": [
    "df=pd.DataFrame(data)"
   ]
  }
 ],
 "metadata": {
  "kernelspec": {
   "display_name": "python_ML",
   "language": "python",
   "name": "python3"
  },
  "language_info": {
   "codemirror_mode": {
    "name": "ipython",
    "version": 3
   },
   "file_extension": ".py",
   "mimetype": "text/x-python",
   "name": "python",
   "nbconvert_exporter": "python",
   "pygments_lexer": "ipython3",
   "version": "3.13.1"
  }
 },
 "nbformat": 4,
 "nbformat_minor": 2
}
