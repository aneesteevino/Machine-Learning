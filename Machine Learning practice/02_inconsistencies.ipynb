{
 "cells": [
  {
   "cell_type": "code",
   "execution_count": 1,
   "metadata": {},
   "outputs": [],
   "source": [
    "# Data inconsistencies\n",
    "\n",
    "import pandas as pd\n",
    "\n",
    "data = {\n",
    "    \"ID\": [1, 2, 3, 4, 5, 6, 7, 8],\n",
    "    \"Name\": [\"John Doe\", \"Jane Smith\", None, \"Sarah Connor\", \"John Doe\", \"Emily Davis\", None, \"Michael Brown\"],\n",
    "    \"Age\": [29, 22, 31, -5, 29, 27, None, 45],\n",
    "    \"Email Address\": [\"johndoe@gmail.com\", \"janesmith\", \"mike.rogers@example.com\", \"sarah.connor@email\",\n",
    "                      \"johndoe@gmail.com\", \"emily.davis@gmail\", None, \"mike.brown@email.com\"],\n",
    "    \"Join Date\": [\"2023-07-15\", \"2023/08/10\", \"2023-07-32\", \"15th Aug 23\", \"2023-07-15\", \"2023-09-12\", None, \"2023-11-05\"],\n",
    "    \"Country\": [\"USA\", \"US\", \"United States\", \"USA\", \"USA\", None, None, \"U.S.A.\"],\n",
    "    \"Phone Number\": [\"123-456-7890\", \"456-789-0123\", \"(123)4567890\", \"+1 23456789\", \"123-456-7890\", \"123-456\", None, \"789-012-3456\"],\n",
    "}"
   ]
  }
 ],
 "metadata": {
  "kernelspec": {
   "display_name": "python_ML",
   "language": "python",
   "name": "python3"
  },
  "language_info": {
   "codemirror_mode": {
    "name": "ipython",
    "version": 3
   },
   "file_extension": ".py",
   "mimetype": "text/x-python",
   "name": "python",
   "nbconvert_exporter": "python",
   "pygments_lexer": "ipython3",
   "version": "3.13.1"
  }
 },
 "nbformat": 4,
 "nbformat_minor": 2
}
