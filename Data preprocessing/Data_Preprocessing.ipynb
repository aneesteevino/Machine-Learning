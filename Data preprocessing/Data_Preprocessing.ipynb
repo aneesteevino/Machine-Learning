{
 "cells": [
  {
   "cell_type": "markdown",
   "metadata": {},
   "source": [
    "# Data Preprocessing"
   ]
  },
  {
   "cell_type": "code",
   "execution_count": 4,
   "metadata": {},
   "outputs": [],
   "source": [
    "import pandas as pd\n",
    "import numpy as np\n",
    "import matplotlib.pyplot as plt\n",
    "import seaborn as sns\n"
   ]
  },
  {
   "cell_type": "code",
   "execution_count": 14,
   "metadata": {},
   "outputs": [],
   "source": [
    "data={\n",
    "    \"ID\": [1, 2, 3, 4, 5, 6, 7, 8, 9, 10],\n",
    "    \"Name\": [\"John\", \"Anna\", \"Peter\", \"Linda\", \"James\", \"Susan\", \"Tom\", \"Emma\", \"Robert\", \"Olivia\"],\n",
    "    \"Age\": [25, 30, 35, None, 40, 29, 50, 27, 45, 32],\n",
    "    \"Salary\": [50000, 60000, None, 70000, 80000, 55000, 90000, None, 85000, 62000],\n",
    "    \"Department\": [\"IT\", \"HR\", \"Finance\", \"IT\", \"Finance\", \"HR\", \"IT\", \"HR\", \"Finance\", \"IT\"],\n",
    "    \"Experience\": [2, 5, 8, 10, 12, 4, 15, 3, 14, 6]\n",
    "}\n",
    "data=pd.DataFrame(data)\n",
    "\n",
    "data.fillna(data.select_dtypes(include=np.number).mean(), inplace=True)\n",
    "data.head()\n",
    "data.dropna(axis=1,inplace=True)\n",
    "data.head()\n",
    "data.to_csv('processed_data.csv', index=False)"
   ]
  },
  {
   "cell_type": "code",
   "execution_count": null,
   "metadata": {},
   "outputs": [],
   "source": []
  }
 ],
 "metadata": {
  "kernelspec": {
   "display_name": "base",
   "language": "python",
   "name": "python3"
  },
  "language_info": {
   "codemirror_mode": {
    "name": "ipython",
    "version": 3
   },
   "file_extension": ".py",
   "mimetype": "text/x-python",
   "name": "python",
   "nbconvert_exporter": "python",
   "pygments_lexer": "ipython3",
   "version": "3.12.7"
  }
 },
 "nbformat": 4,
 "nbformat_minor": 2
}
