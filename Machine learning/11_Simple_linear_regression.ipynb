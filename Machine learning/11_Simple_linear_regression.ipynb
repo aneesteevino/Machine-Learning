{
 "cells": [
  {
   "cell_type": "markdown",
   "metadata": {},
   "source": [
    "# Simple linear regression\n",
    "\n",
    "`linear regression` ek simple linear model hai jo ek dependent variable ko ek independent variable ke base par predict karta hai. Is model me hum ek line ko fit karte hai jo dependent variable ke values ko independent variable ke values ke base par predict karta hai. Is notebook me hum simple linear regression ko implement karenge."
   ]
  },
  {
   "cell_type": "code",
   "execution_count": null,
   "metadata": {},
   "outputs": [],
   "source": []
  },
  {
   "cell_type": "markdown",
   "metadata": {},
   "source": []
  }
 ],
 "metadata": {
  "kernelspec": {
   "display_name": "base",
   "language": "python",
   "name": "python3"
  },
  "language_info": {
   "name": "python",
   "version": "3.12.7"
  }
 },
 "nbformat": 4,
 "nbformat_minor": 2
}
