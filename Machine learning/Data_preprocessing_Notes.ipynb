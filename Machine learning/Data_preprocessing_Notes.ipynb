{
 "cells": [
  {
   "cell_type": "markdown",
   "metadata": {},
   "source": [
    "# Data preprocessing\n"
   ]
  },
  {
   "cell_type": "markdown",
   "metadata": {},
   "source": []
  },
  {
   "cell_type": "markdown",
   "metadata": {},
   "source": [
    "---\n",
    "# Data Standardization\n",
    " Standardization means adjusting the dataset so all features have similar scales. This is done by:\n",
    "\n",
    "Subtracting the mean of each feature (centering data around 0).\n",
    "Dividing each feature by its standard deviation (scaling to unit variance).\n",
    "Why is this important?\n",
    "Many machine learning algorithms, like SVM or linear models, work better when features are centered around zero and have similar variance. If one feature's scale is much larger, it can overpower others, causing the model to focus on it and ignore other features."
   ]
  },
  {
   "cell_type": "markdown",
   "metadata": {},
   "source": []
  },
  {
   "cell_type": "markdown",
   "metadata": {},
   "source": [
    "---\n",
    "# Scaling features to a range\n",
    "Another common method is to scale features to a range, usually [0, 1] or [-1, 1]. This is done by:\n",
    "\n",
    "Subtracting the minimum value of the feature and dividing by the range (max - min).\n",
    "This method is useful when you have outliers, as it scales the data to a limited range. However, it's sensitive to outliers, so it's best to remove them before scaling.\n",
    "\n",
    "\n",
    "Ek alternative standardization yeh hai ke features ko ek specific range mein scale kiya jaye, jaise zero aur one ke darmiyan, ya phir har feature ka maximum absolute value unit size par scale ho. Is ke liye MinMaxScaler ya MaxAbsScaler use kiya jata hai.\n",
    "\n",
    "Is scaling ka faida yeh hai ke yeh un features ke liye robust hota hai jinki standard deviation bohot chhoti hoti hai aur sparse data mein zero entries ko preserve karta hai.\n",
    "\n"
   ]
  },
  {
   "cell_type": "markdown",
   "metadata": {},
   "source": []
  }
 ],
 "metadata": {
  "kernelspec": {
   "display_name": "base",
   "language": "python",
   "name": "python3"
  },
  "language_info": {
   "name": "python",
   "version": "3.12.7"
  }
 },
 "nbformat": 4,
 "nbformat_minor": 2
}
