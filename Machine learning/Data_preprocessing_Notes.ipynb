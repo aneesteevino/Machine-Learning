{
 "cells": [
  {
   "cell_type": "markdown",
   "metadata": {},
   "source": [
    "# Data preprocessing\n"
   ]
  },
  {
   "cell_type": "markdown",
   "metadata": {},
   "source": []
  },
  {
   "cell_type": "markdown",
   "metadata": {},
   "source": [
    "---\n",
    "# Data Standardization\n",
    " Standardization means adjusting the dataset so all features have similar scales. This is done by:\n",
    "\n",
    "Subtracting the mean of each feature (centering data around 0).\n",
    "Dividing each feature by its standard deviation (scaling to unit variance).\n",
    "Why is this important?\n",
    "Many machine learning algorithms, like SVM or linear models, work better when features are centered around zero and have similar variance. If one feature's scale is much larger, it can overpower others, causing the model to focus on it and ignore other features."
   ]
  },
  {
   "cell_type": "markdown",
   "metadata": {},
   "source": []
  },
  {
   "cell_type": "markdown",
   "metadata": {},
   "source": []
  }
 ],
 "metadata": {
  "kernelspec": {
   "display_name": "base",
   "language": "python",
   "name": "python3"
  },
  "language_info": {
   "name": "python",
   "version": "3.12.7"
  }
 },
 "nbformat": 4,
 "nbformat_minor": 2
}
