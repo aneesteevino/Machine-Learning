{
 "cells": [
  {
   "cell_type": "markdown",
   "metadata": {},
   "source": [
    "# Data preprocessing\n"
   ]
  },
  {
   "cell_type": "markdown",
   "metadata": {},
   "source": []
  },
  {
   "cell_type": "markdown",
   "metadata": {},
   "source": [
    "---\n",
    "# Data Standardization\n",
    " Standardization means adjusting the dataset so all features have similar scales. This is done by:\n",
    "\n",
    "Subtracting the mean of each feature (centering data around 0).\n",
    "Dividing each feature by its standard deviation (scaling to unit variance).\n",
    "Why is this important?\n",
    "Many machine learning algorithms, like SVM or linear models, work better when features are centered around zero and have similar variance. If one feature's scale is much larger, it can overpower others, causing the model to focus on it and ignore other features."
   ]
  },
  {
   "cell_type": "markdown",
   "metadata": {},
   "source": []
  },
  {
   "cell_type": "markdown",
   "metadata": {},
   "source": [
    "---\n",
    "# Scaling features to a range\n",
    "Another common method is to scale features to a range, usually [0, 1] or [-1, 1]. This is done by:\n",
    "\n",
    "Subtracting the minimum value of the feature and dividing by the range (max - min).\n",
    "This method is useful when you have outliers, as it scales the data to a limited range. However, it's sensitive to outliers, so it's best to remove them before scaling.\n",
    "\n",
    "\n",
    "Ek alternative standardization yeh hai ke features ko ek specific range mein scale kiya jaye, jaise zero aur one ke darmiyan, ya phir har feature ka maximum absolute value unit size par scale ho. Is ke liye MinMaxScaler ya MaxAbsScaler use kiya jata hai.\n",
    "\n",
    "Is scaling ka faida yeh hai ke yeh un features ke liye robust hota hai jinki standard deviation bohot chhoti hoti hai aur sparse data mein zero entries ko preserve karta hai.\n",
    "\n"
   ]
  },
  {
   "cell_type": "markdown",
   "metadata": {},
   "source": [
    "---\n",
    "# Sparse Data Scaling \n",
    "Sparse data is data with many zero entries, like text data or one-hot encoded features. In such cases, it's important to preserve the zero entries, as they contain valuable information.\n",
    "\n",
    "Sparse data ka center karna data ki sparseness structure ko khatam kar deta hai, is liye yeh achi practice nahi hai. Lekin, sparse inputs ko scale karna zaroori ho sakta hai agar features alag-alag scales par hain.\n",
    "\n",
    "MaxAbsScaler sparse data ke liye specially design kiya gaya hai, aur recommended method hai.\n",
    "StandardScaler bhi scipy.sparse matrices ko handle kar sakta hai, bas constructor mein with_mean=False pass karna hoga, warna error ayega.\n",
    "RobustScaler sparse inputs pe fit nahi ho sakta, lekin transform method use kiya ja sakta hai.\n",
    "Scalers CSR (Compressed Sparse Rows) aur CSC (Compressed Sparse Columns) format ko accept karte hain. Agar centered data chhota hai, to sparse matrix ko toarray method se array mein convert karna ek option hai.\n",
    "\n",
    "Outliers ke saath Data Scaling (6.3.1.3):\n",
    "Agar data mein bohot saare outliers hain, to mean aur variance ka use kar ke scaling achi tarah kaam nahi karegi. Aise cases mein RobustScaler use karein, jo data ke center aur range ke liye zyada robust estimates use karta hai.\n",
    "\n"
   ]
  },
  {
   "cell_type": "markdown",
   "metadata": {},
   "source": [
    "---\n",
    "# Centering kernel matrices\n",
    "  centering  kernel matrices is a common preprocessing step in kernel methods. This is done by:\n",
    "\n",
    "Centering the kernel matrix K by subtracting the mean of each row and column.\n",
    "This is important because many kernel methods, like SVM or kernel PCA, require centered kernel matrices. If the kernel matrix is not centered, the model may not work properly.\n",
    "\n",
    "    "
   ]
  },
  {
   "cell_type": "markdown",
   "metadata": {},
   "source": []
  }
 ],
 "metadata": {
  "kernelspec": {
   "display_name": "base",
   "language": "python",
   "name": "python3"
  },
  "language_info": {
   "name": "python",
   "version": "3.12.7"
  }
 },
 "nbformat": 4,
 "nbformat_minor": 2
}
