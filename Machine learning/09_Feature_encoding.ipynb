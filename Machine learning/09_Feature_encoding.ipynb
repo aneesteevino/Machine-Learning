{
 "cells": [
  {
   "cell_type": "markdown",
   "metadata": {},
   "source": [
    "# Feature encoding\n",
    "\n",
    "`Feature encoding` is the process of converting categorical data into a format that can be provided to ML algorithms to do a better job in prediction. "
   ]
  },
  {
   "cell_type": "code",
   "execution_count": 8,
   "metadata": {},
   "outputs": [
    {
     "name": "stdout",
     "output_type": "stream",
     "text": [
      "[['red'], ['green'], ['blue']]\n",
      "[[0. 0. 1.]\n",
      " [0. 1. 0.]\n",
      " [1. 0. 0.]]\n",
      "[['red']\n",
      " ['green']\n",
      " ['blue']]\n"
     ]
    }
   ],
   "source": [
    "# example of feature encoding\n",
    "import numpy as np\n",
    "import pandas as pd\n",
    "from sklearn.preprocessing import OneHotEncoder\n",
    "\n",
    "# define input data\n",
    "data = [['red'], ['green'], ['blue']]\n",
    "print(data)\n",
    "# define one hot encoding\n",
    "encoder = OneHotEncoder(sparse_output=False)\n",
    "\n",
    "# transform data\n",
    "onehot = encoder.fit_transform(data)\n",
    "print(onehot)\n",
    "\n",
    "# invert first example\n",
    "inverted = encoder.inverse_transform(onehot)\n",
    "print(inverted)\n",
    "\n",
    "\n",
    "\n",
    "\n",
    "\n",
    "\n"
   ]
  },
  {
   "cell_type": "code",
   "execution_count": 9,
   "metadata": {},
   "outputs": [
    {
     "name": "stdout",
     "output_type": "stream",
     "text": [
      "[['red'], ['green'], ['blue']]\n",
      "[[0. 0. 1.]\n",
      " [0. 1. 0.]\n",
      " [1. 0. 0.]]\n"
     ]
    }
   ],
   "source": [
    "# example of feature encoding 2\n",
    "\n",
    "\n",
    "\n",
    "# define input data\n",
    "data = [['red'], ['green'], ['blue']]\n",
    "print(data)\n",
    "\n",
    "# create a one hot encoding\n",
    "\n",
    "encoder = OneHotEncoder(sparse_output=False)\n",
    "onehot = encoder.fit_transform(data)\n",
    "print(onehot)"
   ]
  },
  {
   "cell_type": "code",
   "execution_count": 10,
   "metadata": {},
   "outputs": [
    {
     "name": "stdout",
     "output_type": "stream",
     "text": [
      "['red', 'green', 'blue', 'red']\n",
      "[0, 1, 2, 0]\n"
     ]
    }
   ],
   "source": [
    "# types of feature encoding\n",
    "# integer encoding\n",
    "# one hot encoding\n",
    "# binary encoding\n",
    "# label encoding\n",
    "# target encoding\n",
    "# frequency encoding\n",
    "# mean encoding\n",
    "# weight of evidence encoding\n",
    "\n",
    "# integer encoding\n",
    "\n",
    "# define input data\n",
    "data = ['red', 'green', 'blue', 'red']\n",
    "print(data)\n",
    "\n",
    "# define mapping of unique values to integers\n",
    "mapping = {'red': 0, 'green': 1, 'blue': 2}\n",
    "\n",
    "# convert string to integer\n",
    "integer_data = [mapping[value] for value in data]\n",
    "print(integer_data)"
   ]
  },
  {
   "cell_type": "code",
   "execution_count": 1,
   "metadata": {},
   "outputs": [
    {
     "name": "stdout",
     "output_type": "stream",
     "text": [
      "[['red'], ['green'], ['blue']]\n"
     ]
    }
   ],
   "source": [
    "\n",
    "# one hot encoding\n",
    "# define input data\n",
    "\n",
    "data = [['red'], ['green'], ['blue']]\n",
    "print(data)\n"
   ]
  }
 ],
 "metadata": {
  "kernelspec": {
   "display_name": "base",
   "language": "python",
   "name": "python3"
  },
  "language_info": {
   "codemirror_mode": {
    "name": "ipython",
    "version": 3
   },
   "file_extension": ".py",
   "mimetype": "text/x-python",
   "name": "python",
   "nbconvert_exporter": "python",
   "pygments_lexer": "ipython3",
   "version": "3.12.7"
  }
 },
 "nbformat": 4,
 "nbformat_minor": 2
}
