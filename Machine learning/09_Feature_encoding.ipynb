{
 "cells": [
  {
   "cell_type": "markdown",
   "metadata": {},
   "source": [
    "# Feature encoding\n",
    "\n",
    "`Feature encoding` mai categorical data ko numerical data mai convert karna hota hai. Categorical data ko numerical data mai convert karne ke liye different techniques use ki jati hain jese `Label Encoding`, `One Hot Encoding`, `Target Encoding` etc.\n",
    "\n",
    "# why we need feature encoding?\n",
    "\n",
    "Machine learning models only understand numerical data. Categorical data ko numerical data mai convert karne ke liye feature encoding ki zarurat hoti hai. or computer numerical data ko samajh sakta hai.\n",
    "\n",
    "1. mostly ML ke algorithms categorical data ko support nahi karte hain. is liye categorical data ko numerical data mai convert karna zaruri hota hai.\n",
    "2. efficient computation: numerical data ko process karna easy hota hai as compare to categorical data.\n",
    "\n",
    "3. Feature representation: numerical data ko visualize karna easy hota hai as compare to categorical data.\n",
    "\n",
    "4. Support unseen categories: agar model ko unseen categories se face karna hota hai to model categorical data ko numerical data mai convert karne se is problem se bach sakta hai.\n"
   ]
  },
  {
   "cell_type": "markdown",
   "metadata": {},
   "source": [
    "---\n",
    " # Types of Feature Encoding"
   ]
  },
  {
   "cell_type": "markdown",
   "metadata": {},
   "source": [
    "\n",
    "\n",
    "# 1. Label Encoding\n",
    "\n",
    "`Label Encoding` mai categorical data ko numerical data mai convert karte hain. Is technique mai har unique category ko unique number assign kiya jata hai. For example agar humare pass 3 unique categories hain jese `A`, `B` and `C` to hum in categories ko 1, 2 and 3 assign kar sakte hain."
   ]
  },
  {
   "cell_type": "code",
   "execution_count": 1,
   "metadata": {},
   "outputs": [
    {
     "name": "stdout",
     "output_type": "stream",
     "text": [
      "Original data: ['red', 'green', 'blue']\n",
      "Label encoded data: [2 1 0]\n"
     ]
    }
   ],
   "source": [
    "from sklearn.preprocessing import LabelEncoder\n",
    "\n",
    "# define input data\n",
    "data = ['red', 'green', 'blue']\n",
    "print(\"Original data:\", data)\n",
    "\n",
    "# create a label encoder\n",
    "encoder = LabelEncoder()\n",
    "labels = encoder.fit_transform(data)\n",
    "print(\"Label encoded data:\", labels)\n",
    "\n"
   ]
  },
  {
   "cell_type": "markdown",
   "metadata": {},
   "source": [
    "\n",
    "# 2. One Hot Encoding\n",
    "\n",
    "`One Hot Encoding` mai categorical data ko binary form mai convert kiya jata hai. Is technique mai har unique category ko ek new column mai convert kiya jata hai. For example agar humare pass 3 unique categories hain jese `A`, `B` and `C` to hum in categories ko 3 new columns mai convert kar sakte hain. Agar koi row `A` category mai belong karta hai to us row ke `A` column mai 1 assign kiya jata hai aur `B` and `C` column mai 0 assign kiya jata hai.\n"
   ]
  },
  {
   "cell_type": "code",
   "execution_count": 3,
   "metadata": {},
   "outputs": [
    {
     "name": "stdout",
     "output_type": "stream",
     "text": [
      "Original data: [['red'], ['green'], ['blue']]\n",
      "One hot encoded data:\n",
      " [[0. 0. 1.]\n",
      " [0. 1. 0.]\n",
      " [1. 0. 0.]]\n"
     ]
    }
   ],
   "source": [
    "from sklearn.preprocessing import OneHotEncoder\n",
    "\n",
    "# define input data\n",
    "data = [['red'], ['green'], ['blue']]\n",
    "print(\"Original data:\", data)\n",
    "\n",
    "# create a one hot encoding\n",
    "encoder = OneHotEncoder(sparse_output=False)\n",
    "onehot = encoder.fit_transform(data)\n",
    "print(\"One hot encoded data:\\n\", onehot)"
   ]
  },
  {
   "cell_type": "markdown",
   "metadata": {},
   "source": [
    "\n",
    "# 3. Ordinal Encoding\n",
    "\n",
    "`Ordinal Encoding` mai categorical data ko numerical data mai convert kiya jata hai. Is technique mai categories ko order mai convert kiya jata hai. For example agar humare pass 3 unique categories hain jese `A`, `B` and `C` to hum in categories ko 1, 2 and 3 assign kar sakte hain. Is technique mai categories ko order mai convert kiya jata hai jese `A` ko 1, `B` ko 2 and `C` ko 3 assign kiya jata hai."
   ]
  },
  {
   "cell_type": "code",
   "execution_count": 4,
   "metadata": {},
   "outputs": [
    {
     "name": "stdout",
     "output_type": "stream",
     "text": [
      "Original data: [['low'], ['medium'], ['high']]\n",
      "Ordinal encoded data:\n",
      " [[1.]\n",
      " [2.]\n",
      " [0.]]\n"
     ]
    }
   ],
   "source": [
    "from sklearn.preprocessing import OrdinalEncoder\n",
    "\n",
    "# define input data\n",
    "data = [['low'], ['medium'], ['high']]\n",
    "print(\"Original data:\", data)\n",
    "\n",
    "# create an ordinal encoder\n",
    "encoder = OrdinalEncoder()\n",
    "ordinal_encoded = encoder.fit_transform(data)\n",
    "print(\"Ordinal encoded data:\\n\", ordinal_encoded)"
   ]
  },
  {
   "cell_type": "markdown",
   "metadata": {},
   "source": [
    "\n",
    "# 4. Binary Encoding\n",
    "\n",
    "`Binary Encoding` mai categorical data ko binary form mai convert kiya jata hai. Is technique mai categories ko binary form mai convert kiya jata hai. For example agar humare pass 3 unique categories hain jese `A`, `B` and `C` to hum in categories ko binary form mai convert kar sakte hain. Is technique mai categories ko binary form mai convert kiya jata hai jese `A` ko 001, `B` ko 010 and `C` ko 100 assign kiya jata hai."
   ]
  },
  {
   "cell_type": "markdown",
   "metadata": {},
   "source": [
    "\n",
    "# 5. Frequency on count Encoding\n",
    "\n",
    "`Frequency on count Encoding` mai categorical data ko numerical data mai convert kiya jata hai. Is technique mai categories ko unki frequency ke hisab se convert kiya jata hai. For example agar humare pass 3 unique categories hain jese `A`, `B` and `C` to hum in categories ko unki frequency ke hisab se convert kar sakte hain. Is technique mai categories ko unki frequency ke hisab se convert kiya jata hai jese `A` ko 1, `B` ko 2 and `C` ko 3 assign kiya jata hai."
   ]
  },
  {
   "cell_type": "code",
   "execution_count": 8,
   "metadata": {},
   "outputs": [
    {
     "name": "stdout",
     "output_type": "stream",
     "text": [
      "[['red'], ['green'], ['blue']]\n",
      "[[0. 0. 1.]\n",
      " [0. 1. 0.]\n",
      " [1. 0. 0.]]\n",
      "[['red']\n",
      " ['green']\n",
      " ['blue']]\n"
     ]
    }
   ],
   "source": [
    "# example of feature encoding\n",
    "import numpy as np\n",
    "import pandas as pd\n",
    "from sklearn.preprocessing import OneHotEncoder\n",
    "\n",
    "# define input data\n",
    "data = [['red'], ['green'], ['blue']]\n",
    "print(data)\n",
    "# define one hot encoding\n",
    "encoder = OneHotEncoder(sparse_output=False)\n",
    "\n",
    "# transform data\n",
    "onehot = encoder.fit_transform(data)\n",
    "print(onehot)\n",
    "\n",
    "# invert first example\n",
    "inverted = encoder.inverse_transform(onehot)\n",
    "print(inverted)\n",
    "\n",
    "\n",
    "\n",
    "\n",
    "\n",
    "\n"
   ]
  },
  {
   "cell_type": "code",
   "execution_count": 9,
   "metadata": {},
   "outputs": [
    {
     "name": "stdout",
     "output_type": "stream",
     "text": [
      "[['red'], ['green'], ['blue']]\n",
      "[[0. 0. 1.]\n",
      " [0. 1. 0.]\n",
      " [1. 0. 0.]]\n"
     ]
    }
   ],
   "source": [
    "# example of feature encoding 2\n",
    "\n",
    "\n",
    "\n",
    "# define input data\n",
    "data = [['red'], ['green'], ['blue']]\n",
    "print(data)\n",
    "\n",
    "# create a one hot encoding\n",
    "\n",
    "encoder = OneHotEncoder(sparse_output=False)\n",
    "onehot = encoder.fit_transform(data)\n",
    "print(onehot)"
   ]
  },
  {
   "cell_type": "code",
   "execution_count": 10,
   "metadata": {},
   "outputs": [
    {
     "name": "stdout",
     "output_type": "stream",
     "text": [
      "['red', 'green', 'blue', 'red']\n",
      "[0, 1, 2, 0]\n"
     ]
    }
   ],
   "source": [
    "# types of feature encoding\n",
    "# integer encoding\n",
    "# one hot encoding\n",
    "# binary encoding\n",
    "# label encoding\n",
    "# target encoding\n",
    "# frequency encoding\n",
    "# mean encoding\n",
    "# weight of evidence encoding\n",
    "\n",
    "# integer encoding\n",
    "\n",
    "# define input data\n",
    "data = ['red', 'green', 'blue', 'red']\n",
    "print(data)\n",
    "\n",
    "# define mapping of unique values to integers\n",
    "mapping = {'red': 0, 'green': 1, 'blue': 2}\n",
    "\n",
    "# convert string to integer\n",
    "integer_data = [mapping[value] for value in data]\n",
    "print(integer_data)"
   ]
  },
  {
   "cell_type": "code",
   "execution_count": 9,
   "metadata": {},
   "outputs": [
    {
     "name": "stdout",
     "output_type": "stream",
     "text": [
      "[['red'], ['green'], ['blue']]\n",
      "[[0. 0. 1.]\n",
      " [0. 1. 0.]\n",
      " [1. 0. 0.]]\n"
     ]
    }
   ],
   "source": [
    "import numpy as np\n",
    "from sklearn.preprocessing import OneHotEncoder\n",
    "\n",
    "# define input data\n",
    "data = [['red'], ['green'], ['blue']]\n",
    "print(data)\n",
    "\n",
    "# create a one hot encoding\n",
    "encoder = OneHotEncoder(sparse_output=False)\n",
    "onehot = encoder.fit_transform(data)\n",
    "print(onehot)"
   ]
  },
  {
   "cell_type": "code",
   "execution_count": 10,
   "metadata": {},
   "outputs": [
    {
     "name": "stdout",
     "output_type": "stream",
     "text": [
      "[['red']\n",
      " ['green']\n",
      " ['blue']]\n"
     ]
    }
   ],
   "source": [
    "\n",
    "# invert first example\n",
    "inverted = encoder.inverse_transform(onehot)\n",
    "print(inverted)\n",
    "\n"
   ]
  },
  {
   "cell_type": "code",
   "execution_count": 11,
   "metadata": {},
   "outputs": [
    {
     "name": "stdout",
     "output_type": "stream",
     "text": [
      "[['red', 1], ['green', 4], ['blue', 2]]\n",
      "[[0, 1], [1, 4], [2, 2]]\n",
      "[[0 1]\n",
      " [1 4]\n",
      " [2 2]]\n"
     ]
    }
   ],
   "source": [
    "\n",
    "# binary encoding\n",
    "\n",
    "# define larger input data\n",
    "data = [['red', 1], ['green', 4], ['blue', 2]]\n",
    "print(data)\n",
    "\n",
    "# convert string input to integer\n",
    "mapping = {'red': 0, 'green': 1, 'blue': 2}\n",
    "for i in range(len(data)):\n",
    "    data[i][0] = mapping[data[i][0]]\n",
    "print(data)\n",
    "\n",
    "# convert integer to binary\n",
    "from sklearn.preprocessing import OneHotEncoder\n",
    "import numpy as np\n",
    "\n",
    "data = np.array(data)\n",
    "print(data)\n",
    "\n",
    "\n"
   ]
  },
  {
   "cell_type": "code",
   "execution_count": 12,
   "metadata": {},
   "outputs": [
    {
     "name": "stdout",
     "output_type": "stream",
     "text": [
      "['red', 'green', 'blue', 'red']\n",
      "[2 1 0 2]\n"
     ]
    }
   ],
   "source": [
    "\n",
    "# label encoding\n",
    "\n",
    "# define input data\n",
    "data = ['red', 'green', 'blue', 'red']\n",
    "print(data)\n",
    "\n",
    "# import label encoder\n",
    "from sklearn.preprocessing import LabelEncoder\n",
    "\n",
    "# create label encoder\n",
    "label_encoder = LabelEncoder()\n",
    "\n",
    "# fit and transform data\n",
    "integer_encoded = label_encoder.fit_transform(data)\n",
    "print(integer_encoded)\n",
    "\n"
   ]
  },
  {
   "cell_type": "code",
   "execution_count": 1,
   "metadata": {},
   "outputs": [
    {
     "name": "stdout",
     "output_type": "stream",
     "text": [
      "['red', 'green', 'blue', 'red']\n",
      "[0.1, 0.2, 0.3, 0.1]\n"
     ]
    }
   ],
   "source": [
    "# target encoding\n",
    "\n",
    "# define input data\n",
    "data = ['red', 'green', 'blue', 'red']\n",
    "print(data)\n",
    "\n",
    "# define mapping of unique values to target encoding\n",
    "mapping = {'red': 0.1, 'green': 0.2, 'blue': 0.3}\n",
    "\n",
    "# convert string input to target encoding\n",
    "target_data = [mapping[value] for value in data]\n",
    "print(target_data)\n",
    "\n",
    "\n"
   ]
  },
  {
   "cell_type": "code",
   "execution_count": null,
   "metadata": {},
   "outputs": [],
   "source": [
    "# target encoding\n",
    "\n",
    "# define input data\n",
    "data = ['red', 'green', 'blue', 'red']\n",
    "print(data)\n",
    "\n",
    "# define mapping of unique values to target encoding\n",
    "mapping = {'red': 0.1, 'green': 0.2, 'blue': 0.3}\n",
    "\n",
    "# convert string input to target encoding\n",
    "target_data = [mapping[value] for value in data]\n",
    "print(target_data)\n",
    "\n",
    "\n"
   ]
  },
  {
   "cell_type": "code",
   "execution_count": null,
   "metadata": {},
   "outputs": [],
   "source": [
    "# target encoding\n",
    "\n",
    "# define input data\n",
    "data = ['red', 'green', 'blue', 'red']\n",
    "print(data)\n",
    "\n",
    "# define mapping of unique values to target encoding\n",
    "mapping = {'red': 0.1, 'green': 0.2, 'blue': 0.3}\n",
    "\n",
    "# convert string input to target encoding\n",
    "target_data = [mapping[value] for value in data]\n",
    "print(target_data)\n",
    "\n",
    "\n"
   ]
  },
  {
   "cell_type": "code",
   "execution_count": null,
   "metadata": {},
   "outputs": [],
   "source": [
    "# target encoding\n",
    "\n",
    "# define input data\n",
    "data = ['red', 'green', 'blue', 'red']\n",
    "print(data)\n",
    "\n",
    "# define mapping of unique values to target encoding\n",
    "mapping = {'red': 0.1, 'green': 0.2, 'blue': 0.3}\n",
    "\n",
    "# convert string input to target encoding\n",
    "target_data = [mapping[value] for value in data]\n",
    "print(target_data)\n",
    "\n",
    "\n"
   ]
  },
  {
   "cell_type": "code",
   "execution_count": null,
   "metadata": {},
   "outputs": [],
   "source": [
    "# target encoding\n",
    "\n",
    "# define input data\n",
    "data = ['red', 'green', 'blue', 'red']\n",
    "print(data)\n",
    "\n",
    "# define mapping of unique values to target encoding\n",
    "mapping = {'red': 0.1, 'green': 0.2, 'blue': 0.3}\n",
    "\n",
    "# convert string input to target encoding\n",
    "target_data = [mapping[value] for value in data]\n",
    "print(target_data)\n",
    "\n",
    "\n"
   ]
  },
  {
   "cell_type": "code",
   "execution_count": null,
   "metadata": {},
   "outputs": [],
   "source": [
    "# target encoding\n",
    "\n",
    "# define input data\n",
    "data = ['red', 'green', 'blue', 'red']\n",
    "print(data)\n",
    "\n",
    "# define mapping of unique values to target encoding\n",
    "mapping = {'red': 0.1, 'green': 0.2, 'blue': 0.3}\n",
    "\n",
    "# convert string input to target encoding\n",
    "target_data = [mapping[value] for value in data]\n",
    "print(target_data)\n",
    "\n",
    "\n"
   ]
  }
 ],
 "metadata": {
  "kernelspec": {
   "display_name": "base",
   "language": "python",
   "name": "python3"
  },
  "language_info": {
   "codemirror_mode": {
    "name": "ipython",
    "version": 3
   },
   "file_extension": ".py",
   "mimetype": "text/x-python",
   "name": "python",
   "nbconvert_exporter": "python",
   "pygments_lexer": "ipython3",
   "version": "3.12.7"
  }
 },
 "nbformat": 4,
 "nbformat_minor": 2
}
