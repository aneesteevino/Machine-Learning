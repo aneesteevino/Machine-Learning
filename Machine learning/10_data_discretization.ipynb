{
 "cells": [
  {
   "cell_type": "markdown",
   "metadata": {},
   "source": [
    "# Data discretization\n",
    "\n",
    "## Introduction\n",
    "Data discretization bhot important hai. Data discretization ka matlab hai ke hum data ko bins mein divide kar rahe hain. Jese ke agar hum age ko discretize karna chahte hain to hum age ko bins mein divide kar sakte hain jese ke 0-10, 11-20, 21-30, 31-40, 41-50, 51-60, 61-70, 71-80, 81-90, 91-100. Is tarah se hum data ko bins mein divide kar sakte hain. Is se hume kuch faida hota hai jese ke hume data ko samajhne mein asani hoti hai, data ko visualize karne mein asani hoti hai, data ko analyze karne mein asani hoti hai, data ko model karne mein asani hoti hai, data ko interpret karne mein asani hoti hai, data ko compare karne mein asani hoti hai, data ko store karne mein asani hoti hai, data ko share karne mein asani hoti hai, data ko compress\n",
    "\n",
    "example : jese apky pas age ka column hai to age ko bins mein divide karke ap usko use kar sakte hain. jese young, middle age, old age.etc..\n"
   ]
  },
  {
   "cell_type": "code",
   "execution_count": 2,
   "metadata": {},
   "outputs": [],
   "source": [
    "# libraries for disctretization\n",
    "import numpy as np\n",
    "import pandas as pd\n",
    "import seaborn as sns\n",
    "from sklearn.preprocessing import KBinsDiscretizer\n",
    "\n",
    "\n",
    "\n"
   ]
  }
 ],
 "metadata": {
  "kernelspec": {
   "display_name": "base",
   "language": "python",
   "name": "python3"
  },
  "language_info": {
   "codemirror_mode": {
    "name": "ipython",
    "version": 3
   },
   "file_extension": ".py",
   "mimetype": "text/x-python",
   "name": "python",
   "nbconvert_exporter": "python",
   "pygments_lexer": "ipython3",
   "version": "3.12.7"
  }
 },
 "nbformat": 4,
 "nbformat_minor": 2
}
