{
 "cells": [
  {
   "cell_type": "markdown",
   "metadata": {},
   "source": [
    "# Normalization\n",
    "\n",
    "`L1 NORMALIZATION` L1 normalization ek teknik hai jismein hum data ko normalize karte hain. Is technique mein hum data ko 0 aur 1 ke beech mein scale karte hain. Is technique mein hum data ko sum of absolute values of all the elements of the data se divide karte hain. Is technique ko L1 normalization kehte hain kyun ki ismein hum L1 norm ka use karte hain. L1 norm ka formula yeh hota hai:\n",
    "\n",
    "L1 norm = |x1| + |x2| + |x3| + ... + |xn|\n",
    "\n",
    "Jahan x1, x2, x3, ... xn data ke elements hote hain.\n"
   ]
  },
  {
   "cell_type": "markdown",
   "metadata": {},
   "source": []
  }
 ],
 "metadata": {
  "kernelspec": {
   "display_name": "base",
   "language": "python",
   "name": "python3"
  },
  "language_info": {
   "name": "python",
   "version": "3.12.7"
  }
 },
 "nbformat": 4,
 "nbformat_minor": 2
}
