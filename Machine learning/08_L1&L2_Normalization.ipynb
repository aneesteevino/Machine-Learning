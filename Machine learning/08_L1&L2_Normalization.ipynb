{
 "cells": [
  {
   "cell_type": "markdown",
   "metadata": {},
   "source": [
    "# Normalization\n",
    "---\n",
    "### `L1 NORMALIZATION`\n",
    " L1 normalization ek teknik hai jismein hum data ko normalize karte hain. Is technique mein hum data ko 0 aur 1 ke beech mein scale karte hain. Is technique mein hum data ko sum of absolute values of all the elements of the data se divide karte hain. Is technique ko L1 normalization kehte hain kyun ki ismein hum L1 norm ka use karte hain. L1 norm ka formula yeh hota hai:\n",
    "\n",
    "L1 norm = |x1| + |x2| + |x3| + ... + |xn|\n",
    "\n",
    "Jahan x1, x2, x3, ... xn data ke elements hote hain.\n"
   ]
  },
  {
   "cell_type": "code",
   "execution_count": 13,
   "metadata": {},
   "outputs": [
    {
     "name": "stdout",
     "output_type": "stream",
     "text": [
      "[[0.33333333 0.33333333 0.33333333]\n",
      " [0.5        0.5        0.        ]\n",
      " [1.         0.         0.        ]]\n"
     ]
    }
   ],
   "source": [
    "from sklearn.preprocessing import Normalizer\n",
    "\n",
    "data=[[1,1,1],[1,1,0],[1,0,0]]\n",
    "\n",
    "normalizer=Normalizer(norm='l1')\n",
    "print(normalizer.fit_transform(data))\n",
    "\n",
    "\n"
   ]
  },
  {
   "cell_type": "markdown",
   "metadata": {},
   "source": [
    "---\n",
    "### `L2 NORMALIZATION`\n",
    "L2 normalization ek technique hai jismein hum data ko normalize karte hain. Is technique mein hum data ko 0 aur 1 ke beech mein scale karte hain. Is technique mein hum data ko sum of squares of all the elements of the data se divide karte hain. Is technique ko L2 normalization kehte hain kyun ki ismein hum L2 norm ka use karte hain. L2 norm ka formula yeh hota hai:\n",
    "\n",
    "L2 norm = sqrt(x1^2 + x2^2 + x3^2 + ... + xn^2)\n",
    "\n",
    "Jahan x1, x2, x3, ... xn data ke elements hote hain."
   ]
  },
  {
   "cell_type": "code",
   "execution_count": 14,
   "metadata": {},
   "outputs": [
    {
     "name": "stdout",
     "output_type": "stream",
     "text": [
      "[[0.57735027 0.57735027 0.57735027]\n",
      " [0.70710678 0.70710678 0.        ]\n",
      " [1.         0.         0.        ]]\n"
     ]
    }
   ],
   "source": [
    "from sklearn.preprocessing import Normalizer\n",
    "\n",
    "data=[[1,1,1],[1,1,0],[1,0,0]]\n",
    "\n",
    "normalizer=Normalizer(norm='l2')\n",
    "print(normalizer.fit_transform(data))\n",
    "\n",
    "\n"
   ]
  }
 ],
 "metadata": {
  "kernelspec": {
   "display_name": "base",
   "language": "python",
   "name": "python3"
  },
  "language_info": {
   "codemirror_mode": {
    "name": "ipython",
    "version": 3
   },
   "file_extension": ".py",
   "mimetype": "text/x-python",
   "name": "python",
   "nbconvert_exporter": "python",
   "pygments_lexer": "ipython3",
   "version": "3.12.7"
  }
 },
 "nbformat": 4,
 "nbformat_minor": 2
}
