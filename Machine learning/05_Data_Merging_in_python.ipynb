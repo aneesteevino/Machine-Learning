{
 "cells": [
  {
   "cell_type": "markdown",
   "metadata": {},
   "source": [
    "# Data Merging"
   ]
  },
  {
   "cell_type": "code",
   "execution_count": 4,
   "metadata": {},
   "outputs": [
    {
     "data": {
      "text/html": [
       "<div>\n",
       "<style scoped>\n",
       "    .dataframe tbody tr th:only-of-type {\n",
       "        vertical-align: middle;\n",
       "    }\n",
       "\n",
       "    .dataframe tbody tr th {\n",
       "        vertical-align: top;\n",
       "    }\n",
       "\n",
       "    .dataframe thead th {\n",
       "        text-align: right;\n",
       "    }\n",
       "</style>\n",
       "<table border=\"1\" class=\"dataframe\">\n",
       "  <thead>\n",
       "    <tr style=\"text-align: right;\">\n",
       "      <th></th>\n",
       "      <th>id</th>\n",
       "      <th>Name</th>\n",
       "      <th>Age</th>\n",
       "      <th>city</th>\n",
       "      <th>Occupation</th>\n",
       "    </tr>\n",
       "  </thead>\n",
       "  <tbody>\n",
       "    <tr>\n",
       "      <th>0</th>\n",
       "      <td>1</td>\n",
       "      <td>Anees</td>\n",
       "      <td>20</td>\n",
       "      <td>larkana</td>\n",
       "      <td>Student</td>\n",
       "    </tr>\n",
       "    <tr>\n",
       "      <th>1</th>\n",
       "      <td>2</td>\n",
       "      <td>Ali</td>\n",
       "      <td>21</td>\n",
       "      <td>hyderabad</td>\n",
       "      <td>Teacher</td>\n",
       "    </tr>\n",
       "  </tbody>\n",
       "</table>\n",
       "</div>"
      ],
      "text/plain": [
       "   id   Name  Age       city Occupation\n",
       "0   1  Anees   20    larkana    Student\n",
       "1   2    Ali   21  hyderabad    Teacher"
      ]
     },
     "execution_count": 4,
     "metadata": {},
     "output_type": "execute_result"
    }
   ],
   "source": [
    "import pandas as pd\n",
    "import numpy as np\n",
    "\n",
    "data1={\n",
    "    \"id\":[1,2,3],\n",
    "    \"Name\":[\"Anees\",\"Ali\",\"Kamran\"],\n",
    "    \"Age\":[20,21,23]\n",
    "\n",
    "}\n",
    "df1=pd.DataFrame(data1)\n",
    "\n",
    "data2={\n",
    "    \"id\":[1,2,4],\n",
    "    \"city\":[\"larkana\",\"hyderabad\",\"karachi\"],\n",
    "    \"Occupation\":[\"Student\",\"Teacher\",\"Doctor\"]\n",
    "}\n",
    "df2=pd.DataFrame(data2)\n",
    "\n",
    "data=pd.merge(df1,df2,on=\"id\",how=\"inner\")\n",
    "data.head()"
   ]
  },
  {
   "cell_type": "markdown",
   "metadata": {},
   "source": [
    "# DATA Concatenation"
   ]
  },
  {
   "cell_type": "code",
   "execution_count": 16,
   "metadata": {},
   "outputs": [
    {
     "name": "stdout",
     "output_type": "stream",
     "text": [
      "data concatenationn by rows  \n",
      "\n",
      "\n",
      "     Name   Age       city Occupation\n",
      "0   Anees  21.0        NaN        NaN\n",
      "1  Kamran  19.0        NaN        NaN\n",
      "2    zain  20.0        NaN        NaN\n",
      "3   azhar  22.0        NaN        NaN\n",
      "4  kabeer  18.0        NaN        NaN\n",
      "0     NaN   NaN    larkana    Student\n",
      "1     NaN   NaN  hyderabad    Teacher\n",
      "2     NaN   NaN    karachi     Doctor \n",
      "\n",
      "data concatenationn by coulumns  \n",
      "\n",
      "\n"
     ]
    },
    {
     "data": {
      "text/html": [
       "<div>\n",
       "<style scoped>\n",
       "    .dataframe tbody tr th:only-of-type {\n",
       "        vertical-align: middle;\n",
       "    }\n",
       "\n",
       "    .dataframe tbody tr th {\n",
       "        vertical-align: top;\n",
       "    }\n",
       "\n",
       "    .dataframe thead th {\n",
       "        text-align: right;\n",
       "    }\n",
       "</style>\n",
       "<table border=\"1\" class=\"dataframe\">\n",
       "  <thead>\n",
       "    <tr style=\"text-align: right;\">\n",
       "      <th></th>\n",
       "      <th>Name</th>\n",
       "      <th>Age</th>\n",
       "      <th>city</th>\n",
       "      <th>Occupation</th>\n",
       "    </tr>\n",
       "  </thead>\n",
       "  <tbody>\n",
       "    <tr>\n",
       "      <th>0</th>\n",
       "      <td>Anees</td>\n",
       "      <td>21</td>\n",
       "      <td>larkana</td>\n",
       "      <td>Student</td>\n",
       "    </tr>\n",
       "    <tr>\n",
       "      <th>1</th>\n",
       "      <td>Kamran</td>\n",
       "      <td>19</td>\n",
       "      <td>hyderabad</td>\n",
       "      <td>Teacher</td>\n",
       "    </tr>\n",
       "    <tr>\n",
       "      <th>2</th>\n",
       "      <td>zain</td>\n",
       "      <td>20</td>\n",
       "      <td>karachi</td>\n",
       "      <td>Doctor</td>\n",
       "    </tr>\n",
       "    <tr>\n",
       "      <th>3</th>\n",
       "      <td>azhar</td>\n",
       "      <td>22</td>\n",
       "      <td>NaN</td>\n",
       "      <td>NaN</td>\n",
       "    </tr>\n",
       "    <tr>\n",
       "      <th>4</th>\n",
       "      <td>kabeer</td>\n",
       "      <td>18</td>\n",
       "      <td>NaN</td>\n",
       "      <td>NaN</td>\n",
       "    </tr>\n",
       "  </tbody>\n",
       "</table>\n",
       "</div>"
      ],
      "text/plain": [
       "     Name  Age       city Occupation\n",
       "0   Anees   21    larkana    Student\n",
       "1  Kamran   19  hyderabad    Teacher\n",
       "2    zain   20    karachi     Doctor\n",
       "3   azhar   22        NaN        NaN\n",
       "4  kabeer   18        NaN        NaN"
      ]
     },
     "execution_count": 16,
     "metadata": {},
     "output_type": "execute_result"
    }
   ],
   "source": [
    "data1={\n",
    "    \"Name\":[\"Anees\",\"Kamran\",\"zain\",\"azhar\",\"kabeer\"],\n",
    "    \"Age\":[21,19,20,22,18]\n",
    "\n",
    "}\n",
    "daata2={\n",
    "        \"city\":[\"larkana\",\"hyderabad\",\"karachi\"],\n",
    "       \"Occupation\":[\"Student\",\"Teacher\",\"Doctor\"]\n",
    "\n",
    "}\n",
    "\n",
    "\n",
    "\n",
    "df1=pd.DataFrame(data1)\n",
    "df2=pd.DataFrame(daata2)\n",
    "\n",
    "data_concatenate_by_rows=pd.concat([df1,df2])\n",
    "\n",
    "data_concatenate_by_columns=pd.concat([df1,df2],axis=1)\n",
    "\n",
    "\n",
    "\n",
    "\n",
    "\n",
    "print(\"data concatenationn by rows  \\n\\n\")\n",
    "print(data_concatenate_by_rows,\"\\n\")\n",
    "\n",
    "print(\"data concatenationn by coulumns  \\n\\n\")\n",
    "data_concatenate_by_columns\n",
    "\n"
   ]
  }
 ],
 "metadata": {
  "kernelspec": {
   "display_name": "python_ML",
   "language": "python",
   "name": "python3"
  },
  "language_info": {
   "codemirror_mode": {
    "name": "ipython",
    "version": 3
   },
   "file_extension": ".py",
   "mimetype": "text/x-python",
   "name": "python",
   "nbconvert_exporter": "python",
   "pygments_lexer": "ipython3",
   "version": "3.13.1"
  }
 },
 "nbformat": 4,
 "nbformat_minor": 2
}
